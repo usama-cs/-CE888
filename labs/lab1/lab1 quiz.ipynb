{
 "cells": [
  {
   "cell_type": "code",
   "execution_count": 1,
   "id": "34ede813",
   "metadata": {},
   "outputs": [],
   "source": [
    "import numpy as np\n",
    "\n",
    "def list_to_array(myList):\n",
    "    ## Your code goes here\n",
    "    return np.array(myList)\n"
   ]
  },
  {
   "cell_type": "code",
   "execution_count": 2,
   "id": "e27db528",
   "metadata": {},
   "outputs": [],
   "source": [
    "import numpy as np\n",
    "\n",
    "def list_to_arry(mylist):\n",
    "    ## Your code goes here\n",
    "    \n",
    "    return np.min(numbers)"
   ]
  },
  {
   "cell_type": "code",
   "execution_count": 5,
   "id": "71f145f9",
   "metadata": {},
   "outputs": [],
   "source": [
    "import numpy as np\n",
    "\n",
    "def percentile(numbers, perc):\n",
    "    ## Your code goes here\n",
    "    return np.percentile(numbers,perc)"
   ]
  },
  {
   "cell_type": "code",
   "execution_count": 4,
   "id": "5b744f79",
   "metadata": {},
   "outputs": [],
   "source": [
    "import numpy as np\n",
    "\n",
    "def sorting_choice(myArray, order='asc'):\n",
    "    ## Your code goes here\n",
    "    \n",
    "    if order == 'desc':\n",
    "        return np.flip(np.sort(myArray))\n",
    "    return np.sort(myArray)"
   ]
  },
  {
   "cell_type": "code",
   "execution_count": 6,
   "id": "f338c8e2",
   "metadata": {},
   "outputs": [],
   "source": [
    "import numpy as np\n",
    "\n",
    "def stdev_array_rows(numbers):\n",
    "    ## Your code goes here\n",
    "    return np.std(numbers,axis=1)"
   ]
  },
  {
   "cell_type": "code",
   "execution_count": 7,
   "id": "7193d280",
   "metadata": {},
   "outputs": [],
   "source": [
    "import numpy as np\n",
    "\n",
    "def median_of_array_columns(numbers):\n",
    "    ## Your code goes here\n",
    "    \n",
    "    return np.median(numbers,axis=0)"
   ]
  },
  {
   "cell_type": "code",
   "execution_count": 12,
   "id": "123e8810",
   "metadata": {},
   "outputs": [],
   "source": [
    "import numpy as np\n",
    "\n",
    "# Define our actions\n",
    "\n",
    "def action_0():\n",
    "    ''' This should return 1 with probability 50%, and 0 with probability 50%'''\n",
    "    ## Your code here\n",
    "    return np.random.choice([1,0], p=[0.5, 0.5])\n",
    "\n",
    "def action_1():\n",
    "    ''' This should return 1 with probability 60%, and 0 with probability 40%'''\n",
    "    ## Your code here\n",
    "    return np.random.choice([1,0], p=[0.6, 0.4])\n",
    "\n",
    "def action_2():\n",
    "    ''' This should return 1 with probability 20%, and 0 with probability 80%'''\n",
    "    ## Your code here\n",
    "    return np.random.choice([1,0], p=[0.2, 0.8])"
   ]
  },
  {
   "cell_type": "code",
   "execution_count": 9,
   "id": "d9bff50e",
   "metadata": {},
   "outputs": [],
   "source": [
    "import numpy as np\n",
    "\n",
    "# Define our actions\n",
    "\n",
    "def policy():\n",
    "    ''' This should return 0, 1, or 2 with equal probabilities '''\n",
    "    ## Your code here\n",
    "    return np.random.choice([0,1,2], p=[0.33333, 0.33333,0.33334])\n"
   ]
  },
  {
   "cell_type": "code",
   "execution_count": 11,
   "id": "270b57cb",
   "metadata": {},
   "outputs": [],
   "source": [
    "import numpy as np\n",
    "\n",
    "\n",
    "def policy(p1, p2, p3, p4=0.5):\n",
    "    # p1, p2, p3 are, respectively, the probabilities of choosing between 1, 2, and 3\n",
    "    # the default value for p4 should be 0.5\n",
    "    # action equals 1 with probability p1, 2 with probability p2, and 3 with probability p3\n",
    "    action = np.random.choice([1, 2, 3], p=[p1, p2, p3]) # Your code here\n",
    "    # Depending on the value of 'action', we choose one of the following options:\n",
    "    # if action is 1: return action1()\n",
    "    # if action is 2: return action2()\n",
    "    # if action is 3: return action1() with probability p4, and action2() otherwise\n",
    "\n",
    "    ## YOUR CODE HERE\n",
    "    if action == 1:\n",
    "        return action1(p=0.2)\n",
    "    elif action == 2:\n",
    "        return action2(p=0.9)\n",
    "    else:\n",
    "        return np.random.choice([action1(p=0.2), action2(p=0.9)], p=[p4, 1-p4])\n",
    "\n",
    "\n",
    "def action1(p=0.2):\n",
    "    # Return 0 with probability p and 1 otherwise\n",
    "    # the default value for p should be 0.2\n",
    "    \n",
    "    ## YOUR CODE HERE\n",
    "    return np.random.choice([0, 1], p=[p, (1-p)])\n",
    "    \n",
    "\n",
    "def action2(p=0.9):\n",
    "    # Return 3 with probability p and -5 otherwise\n",
    "    # the default value for p should be 0.9\n",
    "    \n",
    "    ## YOUR CODE HERE\n",
    "    return np.random.choice([3, -5], p=[p, (1-p)])"
   ]
  },
  {
   "cell_type": "code",
   "execution_count": null,
   "id": "7980a8e0",
   "metadata": {},
   "outputs": [],
   "source": []
  }
 ],
 "metadata": {
  "kernelspec": {
   "display_name": "Python 3",
   "language": "python",
   "name": "python3"
  },
  "language_info": {
   "codemirror_mode": {
    "name": "ipython",
    "version": 3
   },
   "file_extension": ".py",
   "mimetype": "text/x-python",
   "name": "python",
   "nbconvert_exporter": "python",
   "pygments_lexer": "ipython3",
   "version": "3.8.8"
  }
 },
 "nbformat": 4,
 "nbformat_minor": 5
}
